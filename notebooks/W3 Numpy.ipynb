{
 "cells": [
  {
   "cell_type": "markdown",
   "id": "3b8bf33a",
   "metadata": {},
   "source": [
    "# What is NumPy?\n",
    "\n",
    "NumPy is the fundamental package for scientific computing in Python. It is a Python library that provides a multidimensional array object, various derived objects (such as masked arrays and matrices), and an assortment of routines for fast operations on arrays, including mathematical, logical, shape manipulation, sorting, selecting, I/O, discrete Fourier transforms, basic linear algebra, basic statistical operations, random simulation and much more.\n",
    "\n",
    "At the core of the NumPy package, is the `ndarray` object. This encapsulates n-dimensional arrays of homogeneous data types, with many operations being performed in compiled code for performance. There are several important differences between NumPy arrays and the standard Python sequences:\n",
    "\n",
    "- NumPy arrays have a **fixed** size at creation, unlike Python lists (which can grow dynamically). Changing the size of an ndarray will create a new array and delete the original.\n",
    "- The elements in a NumPy array are all required to be of the **same** data type, and thus will be the same size in memory. The exception: one can have arrays of (Python, including NumPy) objects, thereby allowing for arrays of different sized elements.\n",
    "- NumPy arrays facilitate advanced mathematical and other types of operations on **large** numbers of data. Typically, such operations are executed more **efficiently** and with less code than is possible using Python’s built-in sequences.\n",
    "- A growing plethora of scientific and mathematical Python-based packages are using NumPy arrays; though these typically support Python-sequence input, they convert such input to NumPy arrays prior to processing, and they often output NumPy arrays. In other words, in order to efficiently use much (perhaps even most) of today’s scientific/mathematical Python-based software, just knowing how to use Python’s built-in sequence types is insufficient - one also needs to know how to use NumPy arrays."
   ]
  },
  {
   "cell_type": "markdown",
   "id": "2da7b7c4",
   "metadata": {},
   "source": [
    "#### Why use NumPy?\n",
    "\n",
    "Python lists are excellent, general-purpose containers. They can be “heterogeneous”, meaning that they can contain elements of a variety of types, and they are quite fast when used to perform individual operations on a handful of elements.\n",
    "\n",
    "Depending on the characteristics of the data and the types of operations that need to be performed, other containers may be more appropriate; by exploiting these characteristics, we can improve speed, reduce memory consumption, and offer a high-level syntax for performing a variety of common processing tasks. NumPy shines when there are large quantities of “homogeneous” (same-type) data to be processed on the CPU."
   ]
  },
  {
   "cell_type": "markdown",
   "id": "2af387ec",
   "metadata": {},
   "source": [
    "What is an “array”?\n",
    "\n",
    "In computer programming, an array is a structure for storing and retrieving data. We often talk about an array as if it were a grid in space, with each cell storing one element of the data. For instance, if each element of the data were a number, we might visualize a “one-dimensional” array like a list:\n",
    "\n",
    "[1, 2, 3, 4, 5]"
   ]
  },
  {
   "cell_type": "markdown",
   "id": "86ac049b",
   "metadata": {},
   "source": [
    "A two-dimensional array would be like a table:\n",
    "\n",
    "\n"
   ]
  },
  {
   "cell_type": "markdown",
   "id": "5c6e5739",
   "metadata": {},
   "source": [
    "A three-dimensional array would be like a set of tables, perhaps stacked as though they were printed on separate pages. In NumPy, this idea is generalized to an arbitrary number of dimensions, and so the fundamental array class is called `ndarray`: it represents an “N-dimensional array”.\n",
    "\n",
    "Most NumPy arrays have some restrictions. For instance:\n",
    "\n",
    "- All elements of the array must be of the same type of data.\n",
    "- Once created, the total size of the array can’t change.\n",
    "- The shape must be “rectangular”, not “jagged”; e.g., each row of a two-dimensional array must have the same number of columns.\n",
    "\n",
    "When these conditions are met, NumPy exploits these characteristics to make the array faster, more memory efficient, and more convenient to use than less restrictive data structures.\n",
    "\n",
    "For the remainder of this document, we will use the word “array” to refer to an instance of ndarray."
   ]
  },
  {
   "cell_type": "markdown",
   "id": "6d5a55c6",
   "metadata": {},
   "source": [
    "## Loading Numpy\n",
    "\n",
    "`as` is alias. The convention is to use a shorter name `np` to represent the packae `numpy`. So you will then use `np` to call functions in `numpy`."
   ]
  },
  {
   "cell_type": "code",
   "execution_count": 3,
   "id": "bdbb5a21",
   "metadata": {},
   "outputs": [],
   "source": [
    "import numpy as np"
   ]
  },
  {
   "cell_type": "markdown",
   "id": "c39f0045",
   "metadata": {},
   "source": [
    "## Array fundamentals"
   ]
  },
  {
   "cell_type": "code",
   "execution_count": null,
   "id": "4685b1b2",
   "metadata": {},
   "outputs": [],
   "source": [
    "a = np.array([1, 2, 3, 4, 5])\n",
    "\n",
    "print(a)"
   ]
  },
  {
   "cell_type": "markdown",
   "id": "1b10c3c9",
   "metadata": {},
   "source": [
    "To index an element in the array"
   ]
  },
  {
   "cell_type": "code",
   "execution_count": null,
   "id": "99aa432a",
   "metadata": {},
   "outputs": [],
   "source": [
    "a[0]"
   ]
  },
  {
   "cell_type": "markdown",
   "id": "260d3953",
   "metadata": {},
   "source": [
    "The array is mutable, to modify the array"
   ]
  },
  {
   "cell_type": "code",
   "execution_count": null,
   "id": "8e251316",
   "metadata": {},
   "outputs": [],
   "source": [
    "a[0] = 10\n",
    "\n",
    "print(a)"
   ]
  },
  {
   "cell_type": "markdown",
   "id": "75dcb0f9",
   "metadata": {},
   "source": [
    "To index elements from index 3 all the way to the end"
   ]
  },
  {
   "cell_type": "code",
   "execution_count": null,
   "id": "1ff26f40",
   "metadata": {},
   "outputs": [],
   "source": [
    "b = a[3:]\n",
    "\n",
    "print(b)"
   ]
  },
  {
   "cell_type": "markdown",
   "id": "407c524e",
   "metadata": {},
   "source": [
    "Two- and higher-dimensional arrays can be initialized from nested Python lists"
   ]
  },
  {
   "cell_type": "code",
   "execution_count": null,
   "id": "d3aa5523",
   "metadata": {},
   "outputs": [],
   "source": [
    "arr_2d = np.array([[1, 2, 3, 4], [5, 6, 7, 8], [9, 10, 11, 12]])\n",
    "\n",
    "print(arr_2d)"
   ]
  },
  {
   "cell_type": "markdown",
   "id": "f7f49b0f",
   "metadata": {},
   "source": [
    "In NumPy, a dimension of an array is sometimes referred to as an “axis”. \n",
    "\n",
    "Another difference between an array and a list of lists is that an element of the array can be accessed by specifying the index along each axis within a single set of square brackets, separated by commas. For instance, the element `8` is in row `1` and column `3`:"
   ]
  },
  {
   "cell_type": "code",
   "execution_count": null,
   "id": "252e4e36",
   "metadata": {},
   "outputs": [],
   "source": [
    "arr_2d[1, 3]"
   ]
  },
  {
   "cell_type": "markdown",
   "id": "a8f2017b",
   "metadata": {},
   "source": [
    "Note: It is familiar practice in mathematics to refer to elements of a matrix by the row index first and the column index second."
   ]
  },
  {
   "cell_type": "markdown",
   "id": "2697a9eb",
   "metadata": {},
   "source": [
    "## Array attributes"
   ]
  },
  {
   "cell_type": "markdown",
   "id": "f9ae932a",
   "metadata": {},
   "source": [
    "The number of dimensions of an array is contained in the `ndim` attribute."
   ]
  },
  {
   "cell_type": "code",
   "execution_count": null,
   "id": "a8749292",
   "metadata": {},
   "outputs": [],
   "source": [
    "arr_2d.ndim #This is a 2 dimensional arary"
   ]
  },
  {
   "cell_type": "markdown",
   "id": "9c5bd067",
   "metadata": {},
   "source": [
    "The `shape` of an array is a tuple of non-negative integers that specify the number of elements along each dimension."
   ]
  },
  {
   "cell_type": "code",
   "execution_count": null,
   "id": "76e53686",
   "metadata": {},
   "outputs": [],
   "source": [
    "arr_2d.shape #This array has 3 rows and 4 columns"
   ]
  },
  {
   "cell_type": "markdown",
   "id": "aef19975",
   "metadata": {},
   "source": [
    "The fixed, total number of elements in array is contained in the `size` attribute."
   ]
  },
  {
   "cell_type": "code",
   "execution_count": null,
   "id": "cd6fefbf",
   "metadata": {},
   "outputs": [],
   "source": [
    "arr_2d.size"
   ]
  },
  {
   "cell_type": "markdown",
   "id": "dd6d2bc0",
   "metadata": {},
   "source": [
    "Arrays are typically “homogeneous”, meaning that they contain elements of only one “data type”. The data type is recorded in the dtype attribute."
   ]
  },
  {
   "cell_type": "code",
   "execution_count": null,
   "id": "f5ee1b87",
   "metadata": {},
   "outputs": [],
   "source": [
    "arr_2d.dtype # \"int\" for integer, \"64\" for 64-bit"
   ]
  },
  {
   "cell_type": "markdown",
   "id": "f171eb05",
   "metadata": {},
   "source": [
    "## How to create a basic array"
   ]
  },
  {
   "cell_type": "code",
   "execution_count": null,
   "id": "318f6593",
   "metadata": {},
   "outputs": [],
   "source": [
    "np.zeros(2) # an array of 2 zeros"
   ]
  },
  {
   "cell_type": "code",
   "execution_count": 2,
   "id": "5b663ba5",
   "metadata": {},
   "outputs": [
    {
     "ename": "NameError",
     "evalue": "name 'np' is not defined",
     "output_type": "error",
     "traceback": [
      "\u001b[0;31m---------------------------------------------------------------------------\u001b[0m",
      "\u001b[0;31mNameError\u001b[0m                                 Traceback (most recent call last)",
      "Cell \u001b[0;32mIn[2], line 1\u001b[0m\n\u001b[0;32m----> 1\u001b[0m np\u001b[38;5;241m.\u001b[39mones(\u001b[38;5;241m5\u001b[39m)\n",
      "\u001b[0;31mNameError\u001b[0m: name 'np' is not defined"
     ]
    }
   ],
   "source": [
    "np.ones(5) # an array of 5 ones"
   ]
  },
  {
   "cell_type": "code",
   "execution_count": null,
   "id": "8df9693b",
   "metadata": {},
   "outputs": [],
   "source": [
    "np.arange(4) # an array of a sequence from 0 to 4 (excluding 4)"
   ]
  },
  {
   "cell_type": "markdown",
   "id": "edbb5acc",
   "metadata": {},
   "source": [
    "And even an array that contains a range of evenly spaced intervals. To do this, you will specify the first number, last number, and the step size."
   ]
  },
  {
   "cell_type": "code",
   "execution_count": null,
   "id": "1c88855c",
   "metadata": {
    "scrolled": true
   },
   "outputs": [],
   "source": [
    "np.arange(2, 9, 2) # from 2 to 9 with a step of 2\n"
   ]
  },
  {
   "cell_type": "markdown",
   "id": "7612132f",
   "metadata": {},
   "source": [
    "You can also use `np.linspace()` to create an array with values that are spaced linearly in a specified interval:"
   ]
  },
  {
   "cell_type": "code",
   "execution_count": null,
   "id": "c632e912",
   "metadata": {},
   "outputs": [],
   "source": [
    "np.linspace(0, 10, num=5) # between 0 and 10 have 5 numbers that are equally spaced"
   ]
  },
  {
   "cell_type": "markdown",
   "id": "c1ee1582",
   "metadata": {},
   "source": [
    "## Adding, removing, and sorting elements"
   ]
  },
  {
   "cell_type": "markdown",
   "id": "3aba5ea4",
   "metadata": {},
   "source": [
    "Sorting an array is simple with np.sort(). You can specify the axis, kind, and order when you call the function."
   ]
  },
  {
   "cell_type": "code",
   "execution_count": null,
   "id": "268a498f",
   "metadata": {},
   "outputs": [],
   "source": [
    "messy_arr = np.array([2, 1, 5, 3, 7, 4, 6, 8])"
   ]
  },
  {
   "cell_type": "code",
   "execution_count": null,
   "id": "d32d3eb9",
   "metadata": {
    "scrolled": true
   },
   "outputs": [],
   "source": [
    "np.sort(messy_arr)"
   ]
  },
  {
   "cell_type": "markdown",
   "id": "80af2f25",
   "metadata": {},
   "source": [
    "To concatenate two arrays"
   ]
  },
  {
   "cell_type": "code",
   "execution_count": null,
   "id": "cb13053d",
   "metadata": {},
   "outputs": [],
   "source": [
    "a = np.array([1, 2, 3, 4])\n",
    "b = np.array([5, 6, 7, 8])"
   ]
  },
  {
   "cell_type": "code",
   "execution_count": null,
   "id": "cc3aaa0c",
   "metadata": {},
   "outputs": [],
   "source": [
    "np.concatenate([a, b])"
   ]
  },
  {
   "cell_type": "markdown",
   "id": "b7e70d8c",
   "metadata": {},
   "source": [
    "You can also concatenate array along a specificed axis"
   ]
  },
  {
   "cell_type": "code",
   "execution_count": null,
   "id": "f1ed2d7f",
   "metadata": {},
   "outputs": [],
   "source": [
    "x = np.array([[1, 2], [3, 4]])\n",
    "y = np.array([[5, 6]])\n",
    "\n",
    "np.concatenate([x, y], axis=0) # axis=0 refers to merge two arrays row-wise"
   ]
  },
  {
   "cell_type": "markdown",
   "id": "65d44750",
   "metadata": {},
   "source": [
    "You can stack arrays vertically or horizontally"
   ]
  },
  {
   "cell_type": "code",
   "execution_count": null,
   "id": "b9eb1d22",
   "metadata": {},
   "outputs": [],
   "source": [
    "a1 = np.array([[1, 1],\n",
    "               [2, 2]])\n",
    "\n",
    "a2 = np.array([[3, 3],\n",
    "               [4, 4]])\n",
    "\n",
    "np.vstack([a1, a2])"
   ]
  },
  {
   "cell_type": "code",
   "execution_count": null,
   "id": "7530df52",
   "metadata": {},
   "outputs": [],
   "source": [
    "np.hstack([a1, a2])"
   ]
  },
  {
   "cell_type": "markdown",
   "id": "c3900d60",
   "metadata": {},
   "source": [
    "## Reshaping arrays"
   ]
  },
  {
   "cell_type": "markdown",
   "id": "14d484c2",
   "metadata": {},
   "source": [
    "We can use `arr.reshape()` to give a new shape to an array without changing the data. Just remember that when you use the reshape method, the array you want to produce needs to have the same number of elements as the original array. If you start with an array with 12 elements, you’ll need to make sure that your new array also has a total of 12 elements.\n",
    "\n",
    "If you start with this array:"
   ]
  },
  {
   "cell_type": "code",
   "execution_count": null,
   "id": "b64766bf",
   "metadata": {},
   "outputs": [],
   "source": [
    "a = np.arange(6)\n",
    "print(a)"
   ]
  },
  {
   "cell_type": "code",
   "execution_count": null,
   "id": "a05bd865",
   "metadata": {},
   "outputs": [],
   "source": [
    "a.shape"
   ]
  },
  {
   "cell_type": "code",
   "execution_count": null,
   "id": "ffe180f7",
   "metadata": {},
   "outputs": [],
   "source": [
    "a.reshape(2,3) #2 rows and 3 columns"
   ]
  },
  {
   "cell_type": "code",
   "execution_count": null,
   "id": "79c59c8a",
   "metadata": {},
   "outputs": [],
   "source": [
    "a.reshape(3,2) # 3 rows and 2 columns"
   ]
  },
  {
   "cell_type": "code",
   "execution_count": null,
   "id": "c4a8be76",
   "metadata": {
    "scrolled": true
   },
   "outputs": [],
   "source": [
    "# -1 refers to the proper (6 elements, 2 rows, so there should be 3 columns) length for the dimension\n",
    "a.reshape(2, -1) "
   ]
  },
  {
   "cell_type": "markdown",
   "id": "9fdeebe7",
   "metadata": {},
   "source": [
    "## Indexing and slicing"
   ]
  },
  {
   "cell_type": "markdown",
   "id": "9cd060f5",
   "metadata": {},
   "source": [
    "Similar to python lists:"
   ]
  },
  {
   "cell_type": "code",
   "execution_count": null,
   "id": "bb2d3202",
   "metadata": {},
   "outputs": [],
   "source": [
    "data = np.array([1, 2, 3, 4])"
   ]
  },
  {
   "cell_type": "code",
   "execution_count": null,
   "id": "bcfcc3fc",
   "metadata": {},
   "outputs": [],
   "source": [
    "print(data[1])\n",
    "print(data[0:2])\n",
    "print(data[1:])\n",
    "print(data[-2:])"
   ]
  },
  {
   "cell_type": "markdown",
   "id": "d0f754a2",
   "metadata": {},
   "source": [
    "If you want to select values from your array that fulfill certain conditions, it’s straightforward with NumPy."
   ]
  },
  {
   "cell_type": "code",
   "execution_count": null,
   "id": "2bc2432a",
   "metadata": {},
   "outputs": [],
   "source": [
    "a = np.array([[1 , 2, 3, 4], [5, 6, 7, 8], [9, 10, 11, 12]])"
   ]
  },
  {
   "cell_type": "markdown",
   "id": "65760175",
   "metadata": {},
   "source": [
    "Get all of the values in the array that are less than 5."
   ]
  },
  {
   "cell_type": "code",
   "execution_count": null,
   "id": "2883c68b",
   "metadata": {},
   "outputs": [],
   "source": [
    "print(a[a < 5])"
   ]
  },
  {
   "cell_type": "markdown",
   "id": "9c686f5c",
   "metadata": {},
   "source": [
    "All the numbers above 5"
   ]
  },
  {
   "cell_type": "code",
   "execution_count": null,
   "id": "2663d836",
   "metadata": {},
   "outputs": [],
   "source": [
    "print(a[a > 5])"
   ]
  },
  {
   "cell_type": "markdown",
   "id": "e8ca9c1c",
   "metadata": {},
   "source": [
    "Or you can select elements that satisfy two conditions using the & (and) and | (or) operators:"
   ]
  },
  {
   "cell_type": "code",
   "execution_count": null,
   "id": "f4a0562e",
   "metadata": {},
   "outputs": [],
   "source": [
    "#give me numbers >2 and <11\n",
    "condition = (a > 2) & (a < 11)\n",
    "\n",
    "print(a[condition])"
   ]
  },
  {
   "cell_type": "markdown",
   "id": "0a673e6f",
   "metadata": {},
   "source": [
    "## Basic array operations"
   ]
  },
  {
   "cell_type": "markdown",
   "id": "34585163",
   "metadata": {},
   "source": [
    "For arrays with the same dimension, performing math operations will do element-wise calculation"
   ]
  },
  {
   "cell_type": "code",
   "execution_count": null,
   "id": "57bf84e8",
   "metadata": {},
   "outputs": [],
   "source": [
    "data = np.array([1, 2])\n",
    "\n",
    "ones = np.ones(2) # [2, 2]\n",
    "\n",
    "data_add_ones = data + ones\n",
    "\n",
    "data_minus_ones = data - ones\n",
    "\n",
    "print(data_add_ones)\n",
    "print(data_minus_ones)"
   ]
  },
  {
   "cell_type": "code",
   "execution_count": null,
   "id": "f0bf1d53",
   "metadata": {},
   "outputs": [],
   "source": [
    "print(data * data)"
   ]
  },
  {
   "cell_type": "markdown",
   "id": "b8bf389f",
   "metadata": {},
   "source": [
    "sum all the elements in an array"
   ]
  },
  {
   "cell_type": "code",
   "execution_count": null,
   "id": "bedb81a0",
   "metadata": {},
   "outputs": [],
   "source": [
    "b = np.array([[1, 1], [2, 2]])\n",
    "\n",
    "np.sum(b)"
   ]
  },
  {
   "cell_type": "markdown",
   "id": "18d3e74f",
   "metadata": {},
   "source": [
    "Sum along an axis"
   ]
  },
  {
   "cell_type": "markdown",
   "id": "f4e25758",
   "metadata": {},
   "source": []
  },
  {
   "cell_type": "code",
   "execution_count": null,
   "id": "d5ec354d",
   "metadata": {},
   "outputs": [],
   "source": [
    "b.sum(axis=0)"
   ]
  },
  {
   "cell_type": "markdown",
   "id": "372ace1d",
   "metadata": {},
   "source": [
    "It worth mentioning `np.sum(b, axis=0)` is equivalent to `b.sum(axis=0)`"
   ]
  },
  {
   "cell_type": "code",
   "execution_count": null,
   "id": "762937f4",
   "metadata": {},
   "outputs": [],
   "source": [
    "b.sum(axis=1)"
   ]
  },
  {
   "cell_type": "markdown",
   "id": "6f5ba5ed",
   "metadata": {},
   "source": [
    "some other useful functions"
   ]
  },
  {
   "cell_type": "code",
   "execution_count": null,
   "id": "74f8acce",
   "metadata": {},
   "outputs": [],
   "source": [
    "print(np.max(b))\n",
    "print(np.min(b))\n",
    "print(np.mean(b))"
   ]
  },
  {
   "cell_type": "markdown",
   "id": "a93f304e",
   "metadata": {},
   "source": [
    "Operations can be applied to a specific axis"
   ]
  },
  {
   "cell_type": "code",
   "execution_count": null,
   "id": "0f655c38",
   "metadata": {},
   "outputs": [],
   "source": [
    "print(np.max(b, axis=0)) # maximum for all rows in each column\n",
    "print(np.min(b, axis=0)) #minimum for all rows in each column\n",
    "print(np.mean(b, axis=0)) #mean for all rows in each column"
   ]
  },
  {
   "cell_type": "markdown",
   "id": "4228e532",
   "metadata": {},
   "source": [
    "## Generating random number"
   ]
  },
  {
   "cell_type": "code",
   "execution_count": null,
   "id": "3b85376f",
   "metadata": {},
   "outputs": [],
   "source": [
    "np.random.uniform() # from unifrom distribution 0 to 1"
   ]
  },
  {
   "cell_type": "code",
   "execution_count": null,
   "id": "69f19ecb",
   "metadata": {},
   "outputs": [],
   "source": [
    "np.random.uniform(size=10) # with size of 10"
   ]
  },
  {
   "cell_type": "code",
   "execution_count": null,
   "id": "47c64b41",
   "metadata": {},
   "outputs": [],
   "source": [
    "np.random.normal() # from standard normal distribution with 0 mean and std of 1"
   ]
  },
  {
   "cell_type": "code",
   "execution_count": null,
   "id": "a658b46c",
   "metadata": {},
   "outputs": [],
   "source": [
    "np.random.normal(size=10) # with size of 10"
   ]
  },
  {
   "cell_type": "markdown",
   "id": "551dd053",
   "metadata": {},
   "source": [
    "### Use a random seed to control the generated random number. "
   ]
  },
  {
   "cell_type": "code",
   "execution_count": null,
   "id": "d44ea50b",
   "metadata": {},
   "outputs": [],
   "source": [
    "np.random.seed(11)\n",
    "\n",
    "np.random.randn()"
   ]
  },
  {
   "cell_type": "markdown",
   "id": "547b96e2",
   "metadata": {},
   "source": [
    "## How to get unique items and counts"
   ]
  },
  {
   "cell_type": "code",
   "execution_count": null,
   "id": "fe92a150",
   "metadata": {},
   "outputs": [],
   "source": [
    "a = np.array([11, 11, 12, 13, 14, 15, 16, 17, 12, 13, 11, 14, 18, 19, 20])"
   ]
  },
  {
   "cell_type": "code",
   "execution_count": null,
   "id": "fd805418",
   "metadata": {},
   "outputs": [],
   "source": [
    "unique_values = np.unique(a)\n",
    "print(unique_values)"
   ]
  },
  {
   "cell_type": "markdown",
   "id": "44b08961",
   "metadata": {},
   "source": [
    "For a 2-D array, you can find unique values along a certain axis"
   ]
  },
  {
   "cell_type": "code",
   "execution_count": null,
   "id": "c5770843",
   "metadata": {},
   "outputs": [],
   "source": [
    "a_2d = np.array([[1, 2, 3, 4], [5, 6, 7, 8], [9, 10, 11, 12], [1, 2, 3, 4]])"
   ]
  },
  {
   "cell_type": "code",
   "execution_count": null,
   "id": "acb778f2",
   "metadata": {},
   "outputs": [],
   "source": [
    "unique_values = np.unique(a_2d)\n",
    "print(unique_values)"
   ]
  },
  {
   "cell_type": "code",
   "execution_count": null,
   "id": "9fb6eceb",
   "metadata": {},
   "outputs": [],
   "source": [
    "unique_rows = np.unique(a_2d, axis=0) # unique numbers for all rows in each column\n",
    "print(unique_rows)"
   ]
  },
  {
   "cell_type": "markdown",
   "id": "828c7bd1",
   "metadata": {},
   "source": [
    "## Transposing"
   ]
  },
  {
   "cell_type": "code",
   "execution_count": null,
   "id": "b2a3141b",
   "metadata": {},
   "outputs": [],
   "source": [
    "a = np.array([[1, 2, 3],\n",
    "               [4, 5, 6]])"
   ]
  },
  {
   "cell_type": "code",
   "execution_count": null,
   "id": "f49a6ca6",
   "metadata": {},
   "outputs": [],
   "source": [
    "a"
   ]
  },
  {
   "cell_type": "code",
   "execution_count": null,
   "id": "b45da0d7",
   "metadata": {},
   "outputs": [],
   "source": [
    "a.T"
   ]
  },
  {
   "cell_type": "markdown",
   "id": "7b22acb6",
   "metadata": {},
   "source": [
    "## Revsering"
   ]
  },
  {
   "cell_type": "code",
   "execution_count": null,
   "id": "97bee2dc",
   "metadata": {},
   "outputs": [],
   "source": [
    "arr = np.array([1, 2, 3, 4, 5, 6, 7, 8])"
   ]
  },
  {
   "cell_type": "code",
   "execution_count": null,
   "id": "a9e2e2ed",
   "metadata": {},
   "outputs": [],
   "source": [
    "np.flip(arr)"
   ]
  },
  {
   "cell_type": "markdown",
   "id": "38952963",
   "metadata": {},
   "source": [
    "For 2D array"
   ]
  },
  {
   "cell_type": "code",
   "execution_count": null,
   "id": "e0d8882e",
   "metadata": {},
   "outputs": [],
   "source": [
    "arr_2d = np.array([[1, 2, 3, 4], [5, 6, 7, 8], [9, 10, 11, 12]])\n",
    "\n",
    "arr_2d"
   ]
  },
  {
   "cell_type": "markdown",
   "id": "cd75e3f9",
   "metadata": {},
   "source": [
    "Revsersing it will reverse all the elements while keeping the dimension of the array"
   ]
  },
  {
   "cell_type": "code",
   "execution_count": null,
   "id": "7071761e",
   "metadata": {},
   "outputs": [],
   "source": [
    "np.flip(arr_2d)"
   ]
  },
  {
   "cell_type": "markdown",
   "id": "4ca2595b",
   "metadata": {},
   "source": [
    "Reverse along an axis"
   ]
  },
  {
   "cell_type": "code",
   "execution_count": null,
   "id": "d3294f1a",
   "metadata": {},
   "outputs": [],
   "source": [
    "np.flip(arr_2d, axis=0) # Reverse all elements in each column"
   ]
  },
  {
   "cell_type": "code",
   "execution_count": null,
   "id": "de36ca8b",
   "metadata": {},
   "outputs": [],
   "source": [
    "np.flip(arr_2d, axis=1) # Reverse all elemenets in each row"
   ]
  },
  {
   "cell_type": "markdown",
   "id": "b2bbf5bc",
   "metadata": {},
   "source": [
    "### Flattening"
   ]
  },
  {
   "cell_type": "code",
   "execution_count": null,
   "id": "f12a7c4b",
   "metadata": {},
   "outputs": [],
   "source": [
    "arr_2d.flatten()"
   ]
  },
  {
   "cell_type": "code",
   "execution_count": null,
   "id": "d63d3b3c",
   "metadata": {},
   "outputs": [],
   "source": []
  },
  {
   "cell_type": "code",
   "execution_count": null,
   "id": "d2e68c53",
   "metadata": {},
   "outputs": [],
   "source": []
  },
  {
   "cell_type": "code",
   "execution_count": null,
   "id": "d27ab1fd",
   "metadata": {},
   "outputs": [],
   "source": []
  },
  {
   "cell_type": "code",
   "execution_count": null,
   "id": "a4c28092",
   "metadata": {},
   "outputs": [],
   "source": []
  },
  {
   "cell_type": "markdown",
   "id": "06ecf7d9",
   "metadata": {},
   "source": [
    "## Use `help()` function to see the documents"
   ]
  },
  {
   "cell_type": "code",
   "execution_count": null,
   "id": "8ec614bc",
   "metadata": {},
   "outputs": [],
   "source": [
    "help(np.sort)"
   ]
  },
  {
   "cell_type": "code",
   "execution_count": null,
   "id": "b9fa8e54",
   "metadata": {},
   "outputs": [],
   "source": []
  }
 ],
 "metadata": {
  "kernelspec": {
   "display_name": "Python 3 (ipykernel)",
   "language": "python",
   "name": "python3"
  },
  "language_info": {
   "codemirror_mode": {
    "name": "ipython",
    "version": 3
   },
   "file_extension": ".py",
   "mimetype": "text/x-python",
   "name": "python",
   "nbconvert_exporter": "python",
   "pygments_lexer": "ipython3",
   "version": "3.11.9"
  }
 },
 "nbformat": 4,
 "nbformat_minor": 5
}
