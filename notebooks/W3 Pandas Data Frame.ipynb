{
 "cells": [
  {
   "cell_type": "markdown",
   "id": "ccaadfe6",
   "metadata": {},
   "source": [
    "# Pandas\n",
    "\n",
    "pandas is a fast, powerful, flexible and easy to use open source data analysis and manipulation tool,\n",
    "built on top of the Python programming language.\n",
    "\n",
    "Compared to `numpy`, `pandas` is primarily used for handling 2D tabular data with rows and columns, similar to excel spreadsheets.\n"
   ]
  },
  {
   "cell_type": "markdown",
   "id": "8352e9eb",
   "metadata": {},
   "source": [
    "<img src=\"https://pynative.com/wp-content/uploads/2021/02/dataframe.png\" alt=\"Cat\" width=\"500\"/>"
   ]
  },
  {
   "cell_type": "markdown",
   "id": "f41270bd",
   "metadata": {},
   "source": [
    "## Basic data structures in pandas\n",
    "\n",
    "Pandas provides two types of classes for handling data:\n",
    "\n",
    "- `Series`: a one-dimensional labeled column holding data of any type such as integers, strings, Python objects etc.\n",
    "\n",
    "- `DataFrame`: a two-dimensional data structure that holds data like a two-dimension array or a table with rows and columns."
   ]
  },
  {
   "cell_type": "code",
   "execution_count": null,
   "id": "c2b8007d",
   "metadata": {},
   "outputs": [],
   "source": [
    "import pandas as pd # often people use pd as alias for pandas\n",
    "\n",
    "import numpy as np"
   ]
  },
  {
   "cell_type": "markdown",
   "id": "5ee04573",
   "metadata": {},
   "source": [
    "You can create a Series or DataFrame by"
   ]
  },
  {
   "cell_type": "code",
   "execution_count": null,
   "id": "a9a89c98",
   "metadata": {},
   "outputs": [],
   "source": [
    "#Creating a Series\n",
    "simple_series= pd.Series([1, 3, 5, 8, 6, 8])\n",
    "simple_series"
   ]
  },
  {
   "cell_type": "code",
   "execution_count": null,
   "id": "9b3a51f1",
   "metadata": {},
   "outputs": [],
   "source": [
    "#Creating a DataFrame (df)\n",
    "flood_risk = {\n",
    "  'City': [\"Tallahassee\", \"Tampa\", \"Miami\"],\n",
    "  'Flood Risk': [3, 7, 6]\n",
    "}\n",
    "\n",
    "df = pd.DataFrame(flood_risk)\n",
    "\n",
    "df"
   ]
  },
  {
   "cell_type": "markdown",
   "id": "fb6a0a3e",
   "metadata": {},
   "source": [
    "## Indexing"
   ]
  },
  {
   "cell_type": "code",
   "execution_count": null,
   "id": "f32b5697",
   "metadata": {},
   "outputs": [],
   "source": [
    "#locate row\n",
    "df.loc[0]"
   ]
  },
  {
   "cell_type": "code",
   "execution_count": null,
   "id": "5e4b172f",
   "metadata": {},
   "outputs": [],
   "source": [
    "#locate a column by its name \n",
    "df[\"City\"]"
   ]
  },
  {
   "cell_type": "code",
   "execution_count": null,
   "id": "59b5a7d6",
   "metadata": {},
   "outputs": [],
   "source": [
    "# or but in this case your column name cannot have spaces\n",
    "df.City"
   ]
  },
  {
   "cell_type": "markdown",
   "id": "e1b0fc0a",
   "metadata": {},
   "source": [
    "Select by position"
   ]
  },
  {
   "cell_type": "code",
   "execution_count": null,
   "id": "d260c5f6",
   "metadata": {},
   "outputs": [],
   "source": [
    "df.iloc[0,1] # get the value for the data at row 0 and column 1"
   ]
  },
  {
   "cell_type": "code",
   "execution_count": null,
   "id": "8ed50abc",
   "metadata": {},
   "outputs": [],
   "source": [
    "df.iloc[:2, :2] #You can also do slicing"
   ]
  },
  {
   "cell_type": "markdown",
   "id": "ff78ae39",
   "metadata": {},
   "source": [
    "Use `:` to represent all"
   ]
  },
  {
   "cell_type": "code",
   "execution_count": null,
   "id": "03805483",
   "metadata": {},
   "outputs": [],
   "source": [
    "df.iloc[0, : ] #Get the data for all columns at row 0"
   ]
  },
  {
   "cell_type": "code",
   "execution_count": null,
   "id": "6f2fcce3",
   "metadata": {},
   "outputs": [],
   "source": [
    "df.iloc[:, 0 ] #Get the data for rows at column 0"
   ]
  },
  {
   "cell_type": "markdown",
   "id": "a6d0ea7c",
   "metadata": {},
   "source": [
    "## Load Data"
   ]
  },
  {
   "cell_type": "markdown",
   "id": "73c0a5f1",
   "metadata": {},
   "source": [
    "`pandas` can read data with various formats such as excel spreadsheet (.xlsx) or Comma separated values (.csv)\n",
    "\n",
    "CSV (Comma-Separated Values) is often preferred over Excel in Python because CSV is a plain text file that can be easily handled across different platforms, systems, and languages. Almost every programming language supports reading and writing CSV files, making them highly portable."
   ]
  },
  {
   "cell_type": "code",
   "execution_count": null,
   "id": "0215c2e2",
   "metadata": {},
   "outputs": [],
   "source": [
    "url = \"https://raw.githubusercontent.com/Ziqi-Li/GIS5103/main/data/Florida_counties_median_income_2021.csv\"\n",
    "\n",
    "fl_income = pd.read_csv(url)"
   ]
  },
  {
   "cell_type": "markdown",
   "id": "b7ddae5f",
   "metadata": {},
   "source": [
    "Get the first 5 rows and the last 5 rows of the data"
   ]
  },
  {
   "cell_type": "code",
   "execution_count": null,
   "id": "9a3f916d",
   "metadata": {},
   "outputs": [],
   "source": [
    "fl_income.head()"
   ]
  },
  {
   "cell_type": "code",
   "execution_count": null,
   "id": "e4ea5c48",
   "metadata": {},
   "outputs": [],
   "source": [
    "fl_income.tail()"
   ]
  },
  {
   "cell_type": "markdown",
   "id": "c412c541",
   "metadata": {},
   "source": [
    "## Export data"
   ]
  },
  {
   "cell_type": "code",
   "execution_count": null,
   "id": "2ac78147",
   "metadata": {},
   "outputs": [],
   "source": [
    "fl_income.to_csv(\"fl_income_copy.csv\")"
   ]
  },
  {
   "cell_type": "markdown",
   "id": "af4f6ef4",
   "metadata": {},
   "source": [
    "You should see a copy of the data named `fl_income_copy.csv` in the same folder where you have your notebook.\n",
    "\n",
    "You can read it back into notebook as:"
   ]
  },
  {
   "cell_type": "code",
   "execution_count": null,
   "id": "050199a5",
   "metadata": {},
   "outputs": [],
   "source": [
    "fl_income_copy = pd.read_csv(\"fl_income_copy.csv\") #optional parameter: index_col=0\n",
    "\n",
    "fl_income_copy"
   ]
  },
  {
   "cell_type": "markdown",
   "id": "cf224cd8",
   "metadata": {},
   "source": [
    "## Boolean indexing"
   ]
  },
  {
   "cell_type": "code",
   "execution_count": null,
   "id": "c6d14955",
   "metadata": {},
   "outputs": [],
   "source": [
    "fl_income.Median_income >= 70000"
   ]
  },
  {
   "cell_type": "markdown",
   "id": "b4e8b574",
   "metadata": {},
   "source": [
    "Return all the county rows with Median_income greater than $70,000"
   ]
  },
  {
   "cell_type": "code",
   "execution_count": null,
   "id": "1943095c",
   "metadata": {},
   "outputs": [],
   "source": [
    "fl_income[fl_income.Median_income >= 70000]"
   ]
  },
  {
   "cell_type": "markdown",
   "id": "4fee02ef",
   "metadata": {},
   "source": [
    "You need to create another variable if you want to **store** the filtered results"
   ]
  },
  {
   "cell_type": "code",
   "execution_count": null,
   "id": "23d65a62",
   "metadata": {},
   "outputs": [],
   "source": [
    "fl_income_high = fl_income[fl_income.Median_income >= 70000]\n",
    "fl_income_high"
   ]
  },
  {
   "cell_type": "code",
   "execution_count": null,
   "id": "c8034f88",
   "metadata": {},
   "outputs": [],
   "source": []
  },
  {
   "cell_type": "markdown",
   "id": "57886a69",
   "metadata": {},
   "source": [
    "Return all colums for Leon county"
   ]
  },
  {
   "cell_type": "code",
   "execution_count": null,
   "id": "61e71f4a",
   "metadata": {},
   "outputs": [],
   "source": [
    "fl_income[fl_income.Name == \"Leon County, Florida\"] #Need to match exactly!"
   ]
  },
  {
   "cell_type": "markdown",
   "id": "a2178f3c",
   "metadata": {},
   "source": [
    "Similarly, you can use `isin`."
   ]
  },
  {
   "cell_type": "code",
   "execution_count": null,
   "id": "aaeca22f",
   "metadata": {
    "scrolled": true
   },
   "outputs": [],
   "source": [
    "fl_income[fl_income.Name.isin([\"Leon County, Florida\"])]"
   ]
  },
  {
   "cell_type": "markdown",
   "id": "30bf0ec4",
   "metadata": {},
   "source": [
    "Or not `isin` by using a `~` sign "
   ]
  },
  {
   "cell_type": "code",
   "execution_count": null,
   "id": "07200470",
   "metadata": {},
   "outputs": [],
   "source": [
    "fl_income[~fl_income.Name.isin([\"Leon County, Florida\"])] # All counties other than Leon"
   ]
  },
  {
   "cell_type": "markdown",
   "id": "b58a90c2",
   "metadata": {},
   "source": [
    "### You can subset columns"
   ]
  },
  {
   "cell_type": "code",
   "execution_count": null,
   "id": "e179e1f5",
   "metadata": {},
   "outputs": [],
   "source": [
    "sub_columns = [\"Geo_ID\", \"Median_income\"]\n",
    "\n",
    "sub_df = fl_income[sub_columns]\n",
    "sub_df"
   ]
  },
  {
   "cell_type": "markdown",
   "id": "653c7584",
   "metadata": {},
   "source": [
    "### Summarize Data"
   ]
  },
  {
   "cell_type": "markdown",
   "id": "810c5125",
   "metadata": {},
   "source": [
    "Use `describe()` to get summary statsitics for all numerical columns "
   ]
  },
  {
   "cell_type": "code",
   "execution_count": null,
   "id": "6ec7c9db",
   "metadata": {},
   "outputs": [],
   "source": [
    "fl_income.describe()"
   ]
  },
  {
   "cell_type": "markdown",
   "id": "72ad2a7b",
   "metadata": {},
   "source": [
    "The DataFrames object has a method called info(), that gives you more information about the data set."
   ]
  },
  {
   "cell_type": "code",
   "execution_count": null,
   "id": "8b50965c",
   "metadata": {},
   "outputs": [],
   "source": [
    "fl_income.info()"
   ]
  },
  {
   "cell_type": "markdown",
   "id": "84c0b39c",
   "metadata": {},
   "source": [
    "## Modifying DataFrame"
   ]
  },
  {
   "cell_type": "markdown",
   "id": "10d694df",
   "metadata": {},
   "source": [
    "Adding a new empty column"
   ]
  },
  {
   "cell_type": "code",
   "execution_count": null,
   "id": "4a9c8d1c",
   "metadata": {},
   "outputs": [],
   "source": [
    "fl_income['new_column'] = None\n",
    "fl_income"
   ]
  },
  {
   "cell_type": "markdown",
   "id": "732adddc",
   "metadata": {},
   "source": [
    "A new column with a constant value"
   ]
  },
  {
   "cell_type": "code",
   "execution_count": null,
   "id": "b2c7cb74",
   "metadata": {},
   "outputs": [],
   "source": [
    "fl_income['new_column'] = 1\n",
    "fl_income"
   ]
  },
  {
   "cell_type": "markdown",
   "id": "ebbf9064",
   "metadata": {},
   "source": [
    "Adding a new column by passing new data (here, new data is generated from exisiting column)"
   ]
  },
  {
   "cell_type": "code",
   "execution_count": null,
   "id": "bde2d025",
   "metadata": {},
   "outputs": [],
   "source": [
    "fl_income['Median_income_in_1000s'] = fl_income[\"Median_income\"]/1000\n",
    "fl_income"
   ]
  },
  {
   "cell_type": "markdown",
   "id": "2582cdaa",
   "metadata": {},
   "source": [
    "Modify a specific item: row 3, column 'Median_income_in_000s'"
   ]
  },
  {
   "cell_type": "code",
   "execution_count": null,
   "id": "2a76cfc6",
   "metadata": {},
   "outputs": [],
   "source": [
    "fl_income.loc[3, 'Median_income_in_000s'] = -9999"
   ]
  },
  {
   "cell_type": "code",
   "execution_count": null,
   "id": "8283ba81",
   "metadata": {
    "scrolled": false
   },
   "outputs": [],
   "source": [
    "fl_income"
   ]
  },
  {
   "cell_type": "markdown",
   "id": "dd18a7bf",
   "metadata": {},
   "source": [
    "Sometimes, the raw data may use a specific numbe to represent missing data. It is suggested to assign `np.nan` to these missing data, otherwise, some statsitics claculated might be wrong."
   ]
  },
  {
   "cell_type": "code",
   "execution_count": null,
   "id": "c2325d20",
   "metadata": {},
   "outputs": [],
   "source": [
    "fl_income.loc[fl_income[\"Median_income_in_000s\"] == -9999, \"Median_income_in_000s\"] = np.nan"
   ]
  },
  {
   "cell_type": "code",
   "execution_count": null,
   "id": "e74da3c8",
   "metadata": {},
   "outputs": [],
   "source": [
    "fl_income"
   ]
  },
  {
   "cell_type": "markdown",
   "id": "d91b16d5",
   "metadata": {},
   "source": [
    "Use `isna()` to test wether the value is na, the results will be boolean, then you can sum to get the number of missing value"
   ]
  },
  {
   "cell_type": "code",
   "execution_count": null,
   "id": "7aae09db",
   "metadata": {},
   "outputs": [],
   "source": [
    "fl_income['Median_income_in_000s'].isna().sum()"
   ]
  },
  {
   "cell_type": "markdown",
   "id": "270a1c2a",
   "metadata": {},
   "source": [
    "You can drop rows with missing values in any columns using the `dropna()` function"
   ]
  },
  {
   "cell_type": "code",
   "execution_count": null,
   "id": "4161cd55",
   "metadata": {},
   "outputs": [],
   "source": [
    "fl_income.dropna()"
   ]
  },
  {
   "cell_type": "code",
   "execution_count": null,
   "id": "ded9ad1e",
   "metadata": {},
   "outputs": [],
   "source": []
  },
  {
   "cell_type": "markdown",
   "id": "baa16c73",
   "metadata": {},
   "source": [
    "## String operations"
   ]
  },
  {
   "cell_type": "code",
   "execution_count": null,
   "id": "896fe343",
   "metadata": {},
   "outputs": [],
   "source": [
    "fl_income.Name.str.split(', ', expand=True) # setting expand to be True will return you with a dataframe"
   ]
  },
  {
   "cell_type": "code",
   "execution_count": null,
   "id": "8b1eeeff",
   "metadata": {},
   "outputs": [],
   "source": [
    "fl_income[[\"County\",\"State\"]] = fl_income.Name.str.split(', ', expand=True)\n",
    "\n",
    "fl_income"
   ]
  },
  {
   "cell_type": "markdown",
   "id": "1a6a5cfc",
   "metadata": {},
   "source": [
    "To subset the string in each row"
   ]
  },
  {
   "cell_type": "code",
   "execution_count": null,
   "id": "db226ce2",
   "metadata": {},
   "outputs": [],
   "source": [
    "fl_income[\"County\"] = fl_income.County.str[:-7]"
   ]
  },
  {
   "cell_type": "code",
   "execution_count": null,
   "id": "02fe9314",
   "metadata": {},
   "outputs": [],
   "source": [
    "fl_income[\"Geo_ID_5\"] = fl_income.Geo_ID.str[-5:]"
   ]
  },
  {
   "cell_type": "code",
   "execution_count": null,
   "id": "3ee50a90",
   "metadata": {},
   "outputs": [],
   "source": [
    "fl_income[\"Geo_ID_5_int\"] = fl_income[\"Geo_ID_5\"].astype(int)"
   ]
  },
  {
   "cell_type": "markdown",
   "id": "a3c92bf2",
   "metadata": {},
   "source": [
    "## Merging two dataframes"
   ]
  },
  {
   "cell_type": "code",
   "execution_count": null,
   "id": "d5212636",
   "metadata": {},
   "outputs": [],
   "source": [
    "url = \"https://raw.githubusercontent.com/Ziqi-Li/GIS5103/main/data/USA_Counties_(Generalized).csv\"\n",
    "all_counties = pd.read_csv(url)"
   ]
  },
  {
   "cell_type": "code",
   "execution_count": null,
   "id": "1ef6b13a",
   "metadata": {},
   "outputs": [],
   "source": [
    "all_counties.head()"
   ]
  },
  {
   "cell_type": "code",
   "execution_count": null,
   "id": "42a49254",
   "metadata": {},
   "outputs": [],
   "source": [
    "fl_pop = all_counties[all_counties.STATE_NAME == \"Florida\"]\n",
    "fl_pop"
   ]
  },
  {
   "cell_type": "markdown",
   "id": "36906321",
   "metadata": {},
   "source": [
    "Use `pd.merge()` function by specifying the left table, right table and the columns in both left and right tables that will be used for merging. This will return you with a new table."
   ]
  },
  {
   "cell_type": "code",
   "execution_count": null,
   "id": "854f7144",
   "metadata": {},
   "outputs": [],
   "source": [
    "merged = pd.merge(left=fl_income, right=fl_pop, left_on=\"Geo_ID_5_int\",right_on=\"FIPS\")\n",
    "\n",
    "merged"
   ]
  },
  {
   "cell_type": "markdown",
   "id": "e2d6ce2d",
   "metadata": {},
   "source": [
    "## Plotting"
   ]
  },
  {
   "cell_type": "markdown",
   "id": "46c0bfc6",
   "metadata": {},
   "source": [
    "Create a histogram of a column"
   ]
  },
  {
   "cell_type": "code",
   "execution_count": null,
   "id": "fb65c782",
   "metadata": {},
   "outputs": [],
   "source": [
    "fl_income.Median_income.hist()"
   ]
  },
  {
   "cell_type": "code",
   "execution_count": null,
   "id": "21542a8b",
   "metadata": {},
   "outputs": [],
   "source": [
    "fl_pop.POPULATION.hist()"
   ]
  },
  {
   "cell_type": "code",
   "execution_count": null,
   "id": "9322ee2f",
   "metadata": {},
   "outputs": [],
   "source": [
    "help(fl_income.Median_income.hist)"
   ]
  },
  {
   "cell_type": "code",
   "execution_count": null,
   "id": "4d56defb",
   "metadata": {},
   "outputs": [],
   "source": [
    "fl_income.Median_income.hist(bins=5, legend=True)"
   ]
  },
  {
   "cell_type": "code",
   "execution_count": null,
   "id": "7aec9c46",
   "metadata": {},
   "outputs": [],
   "source": [
    "merged.hist()"
   ]
  },
  {
   "cell_type": "markdown",
   "id": "a874783d",
   "metadata": {},
   "source": []
  },
  {
   "cell_type": "markdown",
   "id": "23a4ab21",
   "metadata": {},
   "source": [
    "Calculate pair-wise correlation coefficients for numerical columns"
   ]
  },
  {
   "cell_type": "code",
   "execution_count": null,
   "id": "0ce19999",
   "metadata": {},
   "outputs": [],
   "source": [
    "merged[[\"POPULATION\",\"Median_income\"]].corr()"
   ]
  },
  {
   "cell_type": "markdown",
   "id": "20be3ea9",
   "metadata": {},
   "source": [
    "Scatterplot by specifying column names of x and y axis."
   ]
  },
  {
   "cell_type": "code",
   "execution_count": null,
   "id": "b843c474",
   "metadata": {},
   "outputs": [],
   "source": [
    "merged.plot(kind = 'scatter', x = 'POPULATION', y = 'Median_income')"
   ]
  },
  {
   "cell_type": "code",
   "execution_count": null,
   "id": "1663fd40",
   "metadata": {},
   "outputs": [],
   "source": []
  },
  {
   "cell_type": "markdown",
   "id": "eb10c313",
   "metadata": {},
   "source": [
    "### Group by and aggregation"
   ]
  },
  {
   "cell_type": "markdown",
   "id": "1513b56f",
   "metadata": {},
   "source": [
    "Another common task is to summarize data across categories. In this case, we can use `.groupby()` function together with `.agg()` to do the job.\n",
    "\n",
    "\n",
    "The `.groupby()` function in Pandas is used to group data based on the values in one or more columns. It splits the data into separate groups and allows you to perform aggregate operations (such as sum, mean, count, etc.) on each group independently. This is useful when you want to analyze data that falls into different categories or groups.\n",
    "\n",
    "\n",
    "The `.agg()` function (short for aggregation) allows you to apply multiple aggregation operations to the grouped data. This is particularly powerful because you can specify different functions for different columns at the same time. It can work with a single column or across multiple columns in the DataFrame."
   ]
  },
  {
   "cell_type": "markdown",
   "id": "ff9d75e7",
   "metadata": {},
   "source": [
    "Consider we have a table"
   ]
  },
  {
   "cell_type": "code",
   "execution_count": null,
   "id": "c6690483",
   "metadata": {},
   "outputs": [],
   "source": [
    "import pandas as pd\n",
    "\n",
    "# Sample data for regions\n",
    "data = {\n",
    "    'Region': ['A', 'B', 'C', 'D', 'E', 'F', 'G', 'H'],\n",
    "    'Population': [32000, 45000, 28000, 50000, 42000, 38000, 46000, 33000],\n",
    "    'Area_km2': [10, 15, 8, 20, 12, 13, 18, 11],\n",
    "    'Land_Use_Type': ['Residential', 'Commercial', 'Industrial', 'Residential', \n",
    "                      'Industrial', 'Residential', 'Commercial', 'Industrial']\n",
    "}\n",
    "\n",
    "\n",
    "df = pd.DataFrame(data)\n",
    "\n",
    "# Adding a population density column for each region\n",
    "df['Density'] = df['Population'] / df['Area_km2']\n",
    "df"
   ]
  },
  {
   "cell_type": "markdown",
   "id": "ae60711d",
   "metadata": {},
   "source": [
    "\n",
    "**Tasks:** Group by Land_Use_Type and calculate the following:\n",
    "\n",
    "- Total Population for each land use type.\n",
    "- Average Population Density for each land use type.\n",
    "- Total Land Area for each land use type."
   ]
  },
  {
   "cell_type": "code",
   "execution_count": null,
   "id": "58f35fa5",
   "metadata": {},
   "outputs": [],
   "source": [
    "# Group by 'Land_Use_Type' and aggregate using .agg()\n",
    "grouped = df.groupby('Land_Use_Type').agg(\n",
    "    Total_Population=('Population', 'sum'),\n",
    "    Avg_Density=('Density', 'mean'),\n",
    "    Total_Area=('Area_km2', 'sum')\n",
    ")\n",
    "\n",
    "# Display the resulting DataFrame\n",
    "grouped"
   ]
  },
  {
   "cell_type": "markdown",
   "id": "50576b00",
   "metadata": {},
   "source": [
    "Explanation of `.groupby()` and `.agg()`:\n",
    "\n",
    "- `.groupby('Land_Use_Type')`: This groups the DataFrame by the values in the Land_Use_Type column.\n",
    "- `.agg()`: This function allows you to apply multiple aggregation operations to the grouped data.\n",
    "- `Total_Population=('Population', 'sum')`: Sums up the population for each land use type.\n",
    "- `Avg_Density=('Density', 'mean')`: Calculates the average population density for each land use type.\n",
    "- `Total_Area=('Area_km2', 'sum')`: Sums up the total land area for each land use type."
   ]
  },
  {
   "cell_type": "code",
   "execution_count": null,
   "id": "c7423f78",
   "metadata": {},
   "outputs": [],
   "source": []
  },
  {
   "cell_type": "markdown",
   "id": "22bf5f2f",
   "metadata": {},
   "source": [
    "### Documentation on https://pandas.pydata.org/docs/reference/general_functions.html"
   ]
  },
  {
   "cell_type": "code",
   "execution_count": null,
   "id": "ccea3b5e",
   "metadata": {},
   "outputs": [],
   "source": []
  }
 ],
 "metadata": {
  "kernelspec": {
   "display_name": "Python 3 (ipykernel)",
   "language": "python",
   "name": "python3"
  },
  "language_info": {
   "codemirror_mode": {
    "name": "ipython",
    "version": 3
   },
   "file_extension": ".py",
   "mimetype": "text/x-python",
   "name": "python",
   "nbconvert_exporter": "python",
   "pygments_lexer": "ipython3",
   "version": "3.11.8"
  }
 },
 "nbformat": 4,
 "nbformat_minor": 5
}
